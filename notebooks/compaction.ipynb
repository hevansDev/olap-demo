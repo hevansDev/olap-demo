{
 "cells": [
  {
   "cell_type": "markdown",
   "metadata": {},
   "source": [
    "``` docker compose --profile default -f docker-compose.yaml up -d```"
   ]
  },
  {
   "cell_type": "code",
   "execution_count": null,
   "metadata": {},
   "outputs": [],
   "source": [
    "import druidapi\n",
    "import pandas as pd\n",
    "import matplotlib.pyplot as plt\n",
    "import configparser\n",
    "\n",
    "druid_host = \"http://localhost:8888\"\n",
    "\n",
    "druid_headers = {'Content-Type': 'application/json'}\n",
    "\n",
    "print(f\"Opening a connection to {druid_host}.\")\n",
    "druid = druidapi.jupyter_client(druid_host)\n",
    "display = druid.display\n",
    "sql_client = druid.sql\n",
    "status_client = druid.status\n",
    "druid_headers = {'Content-Type': 'application/json'}\n",
    "\n",
    "config = configparser.ConfigParser()\n",
    "config.read('auth.ini')\n",
    "\n",
    "status_client.version"
   ]
  },
  {
   "cell_type": "code",
   "execution_count": null,
   "metadata": {},
   "outputs": [],
   "source": [
    "sql = f'''\n",
    "SELECT\n",
    "  TIME_EXTRACT(\"__time\",'hour') AS \"hour\",\n",
    "  COUNT (DISTINCT \"hex_ident_val\") AS \"aircraft tracked\"\n",
    "FROM \"adsb-json\"\n",
    "WHERE \"__time\" >= '2024-09-01T00:00:00.000Z'\n",
    "GROUP BY 1\n",
    "'''\n",
    "\n",
    "response = sql_client.sql_query(sql)\n",
    "df = pd.DataFrame(response.json)\n",
    "\n",
    "df.plot(x='hour', y='aircraft tracked', marker='o')\n",
    "plt.xticks(rotation=45, ha='right')\n",
    "plt.ylabel(\"Aircraft Tracked\")\n",
    "plt.xlabel(\"Hour\")\n",
    "plt.gca().get_legend().remove()\n",
    "plt.show()"
   ]
  },
  {
   "cell_type": "code",
   "execution_count": null,
   "metadata": {},
   "outputs": [],
   "source": [
    "sql = f'''\n",
    "SELECT\n",
    "\"segment_id\", \"num_rows\"\n",
    "FROM \"sys\".\"segments\" WHERE \"datasource\"='adsb-json' ORDER BY 1\n",
    "'''\n",
    "\n",
    "response = sql_client.sql_query(sql)\n",
    "df = pd.DataFrame(response.json)\n",
    "\n",
    "df[\"segment_id\"] = df['segment_id'].str[10:20] + \" \" + df['segment_id'].str[35:45]\n",
    "\n",
    "df.plot(kind='bar', x='segment_id', y='num_rows')\n",
    "plt.xticks(rotation=45, ha='right')\n",
    "plt.ylabel(\"Segment\")\n",
    "plt.ylabel(\"Number of rows\")\n",
    "plt.gca().get_legend().remove()\n",
    "plt.show()"
   ]
  }
 ],
 "metadata": {
  "kernelspec": {
   "display_name": ".venv",
   "language": "python",
   "name": "python3"
  },
  "language_info": {
   "codemirror_mode": {
    "name": "ipython",
    "version": 3
   },
   "file_extension": ".py",
   "mimetype": "text/x-python",
   "name": "python",
   "nbconvert_exporter": "python",
   "pygments_lexer": "ipython3",
   "version": "3.12.3"
  }
 },
 "nbformat": 4,
 "nbformat_minor": 2
}
