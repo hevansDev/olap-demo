{
 "cells": [
  {
   "cell_type": "code",
   "execution_count": null,
   "id": "8832781e",
   "metadata": {},
   "outputs": [],
   "source": [
    "import clickhouse_connect\n",
    "import pandas as pd"
   ]
  },
  {
   "cell_type": "code",
   "execution_count": null,
   "id": "b4c46879",
   "metadata": {},
   "outputs": [],
   "source": [
    "# Connect to ClickHouse\n",
    "client = clickhouse_connect.get_client(\n",
    "    host='localhost', \n",
    "    port=8123,\n",
    "    username='default',\n",
    "    password='ClickHousePassword'\n",
    ")"
   ]
  },
  {
   "cell_type": "code",
   "execution_count": null,
   "id": "53fd5d43",
   "metadata": {},
   "outputs": [],
   "source": [
    "create_mv_sql = \"\"\"\n",
    "CREATE MATERIALIZED VIEW mv_flights_by_minute (\n",
    "    minute DateTime,\n",
    "    total_flights UInt64,\n",
    "    unique_aircraft UInt64,\n",
    "    avg_altitude Float64,\n",
    "    airport_counts AggregateFunction(uniq, String)\n",
    ") ENGINE = AggregatingMergeTree()\n",
    "ORDER BY minute\n",
    "AS SELECT\n",
    "    toStartOfMinute(timestamp) as minute,\n",
    "    count() as total_flights,\n",
    "    uniq(flight_id) as unique_aircraft,\n",
    "    avg(altitude) as avg_altitude,\n",
    "    uniqState(airport_code) as airport_counts\n",
    "FROM adsb_messages\n",
    "GROUP BY minute;\n",
    "\"\"\"\n",
    "\n",
    "client.command(create_mv_sql)"
   ]
  },
  {
   "cell_type": "markdown",
   "id": "430b1e23",
   "metadata": {},
   "source": [
    "query_table_sql = \"\"\"SELECT * FROM mv_flights_by_minute LIMIT 10\"\"\"\n",
    "\n",
    "result = client.query(query_table_sql)\n",
    "\n",
    "df = result.result_set\n",
    "\n",
    "display(df)"
   ]
  },
  {
   "cell_type": "code",
   "execution_count": null,
   "id": "83b0d6a8",
   "metadata": {},
   "outputs": [],
   "source": [
    "client.command(\"DROP TABLE  mv_flights_by_minute\")"
   ]
  }
 ],
 "metadata": {
  "language_info": {
   "name": "python"
  }
 },
 "nbformat": 4,
 "nbformat_minor": 5
}
