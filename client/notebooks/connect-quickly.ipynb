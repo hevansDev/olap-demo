{
 "cells": [
  {
   "cell_type": "code",
   "execution_count": 53,
   "id": "08fb2a61",
   "metadata": {},
   "outputs": [],
   "source": [
    "import clickhouse_connect\n",
    "import pandas as pd"
   ]
  },
  {
   "cell_type": "code",
   "execution_count": 54,
   "id": "b757fa1f",
   "metadata": {},
   "outputs": [],
   "source": [
    "# Connect to ClickHouse\n",
    "client = clickhouse_connect.get_client(\n",
    "    host='localhost', \n",
    "    port=8123,\n",
    "    username='default',\n",
    "    password='ClickHousePassword'\n",
    ")"
   ]
  },
  {
   "cell_type": "code",
   "execution_count": 58,
   "id": "3fe09735",
   "metadata": {},
   "outputs": [
    {
     "data": {
      "text/plain": [
       "<clickhouse_connect.driver.summary.QuerySummary at 0x105b0b760>"
      ]
     },
     "execution_count": 58,
     "metadata": {},
     "output_type": "execute_result"
    }
   ],
   "source": [
    "create_table_sql = \"\"\"\n",
    "CREATE TABLE kafka_adsb_raw (\n",
    "    `message_type` String,\n",
    "    `transmission_type` UInt8,\n",
    "    `session_id` UInt32,\n",
    "    `aircraft_id` UInt32,\n",
    "    `hex_ident` String,\n",
    "    `hex_ident_val` UInt32,\n",
    "    `flight_id` String,\n",
    "    `date_message_generated` String,\n",
    "    `time_message_generated` String,\n",
    "    `date_message_logged` String,\n",
    "    `time_message_logged` String,\n",
    "    `callsign` String,\n",
    "    `altitude` Nullable(Int32),\n",
    "    `ground_speed` Nullable(Int32),\n",
    "    `track` Nullable(Float64),\n",
    "    `latitude` Nullable(Float64),\n",
    "    `longitude` Nullable(Float64),\n",
    "    `vertical_rate` Nullable(Int32),\n",
    "    `squawk` Nullable(String),\n",
    "    `alert` Nullable(UInt8),\n",
    "    `emergency` Nullable(UInt8),\n",
    "    `spi` Nullable(UInt8),\n",
    "    `is_on_ground` Nullable(UInt8),\n",
    "    `raw_message` String,\n",
    "    `timestamp` DateTime\n",
    ") ENGINE = MergeTree\n",
    "PARTITION BY toYYYYMM(timestamp)\n",
    "ORDER BY (timestamp, hex_ident)\n",
    "\"\"\"\n",
    "\n",
    "client.command(create_table_sql)"
   ]
  },
  {
   "cell_type": "code",
   "execution_count": 63,
   "id": "3bc8a7cb",
   "metadata": {},
   "outputs": [
    {
     "data": {
      "text/plain": [
       "[]"
      ]
     },
     "metadata": {},
     "output_type": "display_data"
    }
   ],
   "source": [
    "query_table_sql = \"\"\"SELECT * FROM kafka_adsb_raw LIMIT 10\"\"\"\n",
    "\n",
    "# query_table_sql = \"\"\"SELECT * FROM adsb_messages LIMIT 10\"\"\"\n",
    "\n",
    "result = client.query(query_table_sql)\n",
    "\n",
    "df = result.result_set\n",
    "\n",
    "display(df)"
   ]
  },
  {
   "cell_type": "code",
   "execution_count": 57,
   "id": "c4bd36c9",
   "metadata": {},
   "outputs": [
    {
     "data": {
      "text/plain": [
       "<clickhouse_connect.driver.summary.QuerySummary at 0x124473c40>"
      ]
     },
     "execution_count": 57,
     "metadata": {},
     "output_type": "execute_result"
    }
   ],
   "source": [
    "client.command(\"DROP TABLE  kafka_adsb_raw\")"
   ]
  }
 ],
 "metadata": {
  "kernelspec": {
   "display_name": ".venv",
   "language": "python",
   "name": "python3"
  },
  "language_info": {
   "codemirror_mode": {
    "name": "ipython",
    "version": 3
   },
   "file_extension": ".py",
   "mimetype": "text/x-python",
   "name": "python",
   "nbconvert_exporter": "python",
   "pygments_lexer": "ipython3",
   "version": "3.9.6"
  }
 },
 "nbformat": 4,
 "nbformat_minor": 5
}
